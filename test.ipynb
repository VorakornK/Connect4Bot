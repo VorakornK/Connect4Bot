{
 "cells": [
  {
   "cell_type": "code",
   "execution_count": 1,
   "metadata": {},
   "outputs": [],
   "source": [
    "from tqdm import tqdm\n",
    "from module import *\n",
    "from IPython import display\n",
    "import pickle\n",
    "from copy import deepcopy as dc\n",
    "import time\n",
    "\n",
    "def save_transitions(filename, transitions):\n",
    "    with open(filename, \"wb\") as file:\n",
    "        pickle.dump(transitions, file)\n",
    "\n",
    "def load_transitions(filename):\n",
    "    with open(filename, \"rb\") as file:\n",
    "        return pickle.load(file)"
   ]
  },
  {
   "cell_type": "code",
   "execution_count": 2,
   "metadata": {},
   "outputs": [],
   "source": [
    "Transitions = []"
   ]
  },
  {
   "cell_type": "code",
   "execution_count": 3,
   "metadata": {},
   "outputs": [
    {
     "name": "stderr",
     "output_type": "stream",
     "text": [
      " 15%|█▌        | 15481/100000 [24:27<2:02:12, 11.53it/s]"
     ]
    }
   ],
   "source": [
    "env = ConnectFourEnvironment()\n",
    "agent = NStep_Agent()\n",
    "num_episodes = 100000\n",
    "\n",
    "for episode in tqdm(range(num_episodes)):\n",
    "    state = env.get_state()\n",
    "    done = False\n",
    "        \n",
    "    while not done:\n",
    "        prev_state = dc(state)\n",
    "        action = agent.select_action(env)\n",
    "        next_state, reward, done = env.step(action)\n",
    "        curr_state = dc(next_state)\n",
    "        Transitions.append(Transition(prev_state, action, curr_state, reward))\n",
    "        state = next_state\n",
    "\n",
    "    env.reset()"
   ]
  },
  {
   "cell_type": "code",
   "execution_count": null,
   "metadata": {},
   "outputs": [],
   "source": [
    "save_transitions(\"transitions.pkl\", Transitions)"
   ]
  }
 ],
 "metadata": {
  "kernelspec": {
   "display_name": ".venv",
   "language": "python",
   "name": "python3"
  },
  "language_info": {
   "codemirror_mode": {
    "name": "ipython",
    "version": 3
   },
   "file_extension": ".py",
   "mimetype": "text/x-python",
   "name": "python",
   "nbconvert_exporter": "python",
   "pygments_lexer": "ipython3",
   "version": "3.9.18"
  }
 },
 "nbformat": 4,
 "nbformat_minor": 2
}
