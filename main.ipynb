{
 "cells": [
  {
   "cell_type": "code",
   "execution_count": 1,
   "metadata": {},
   "outputs": [],
   "source": [
    "from module import *\n",
    "from tool import *\n",
    "from test import *\n",
    "from IPython.display import clear_output\n",
    "from copy import deepcopy as dc\n",
    "from tqdm import tqdm\n",
    "import os"
   ]
  },
  {
   "cell_type": "code",
   "execution_count": 2,
   "metadata": {},
   "outputs": [
    {
     "name": "stderr",
     "output_type": "stream",
     "text": [
      " 30%|██▉       | 2999/10000 [08:09<20:43,  5.63it/s]  "
     ]
    }
   ],
   "source": [
    "env = ConnectFourEnvironment()\n",
    "input_size = 6 * 7\n",
    "output_size = 7 \n",
    "agent = DQNAgent(input_size, output_size)\n",
    "\n",
    "model_path = f\"main/\"\n",
    "os.makedirs(model_path, exist_ok=True)\n",
    "\n",
    "num_episodes = 10000\n",
    "start_epsilon = 0.8\n",
    "end_epsilon = 0.05\n",
    "\n",
    "target_update_frequency = 100\n",
    "save_model_frequency = 1000\n",
    "clear_memory_frequency = 1000\n",
    "threshold_episodes_save = 3000\n",
    "\n",
    "results = []\n",
    "main_memory = []\n",
    "\n",
    "DL_AGENT = 1\n",
    "MINIMAX_AGENT = 3 - DL_AGENT\n",
    "\n",
    "for episode in tqdm(range(num_episodes)):\n",
    "    state = env.get_state()\n",
    "    done = False\n",
    "    epsilon = start_epsilon - episode * (start_epsilon - end_epsilon) / num_episodes\n",
    "    episodeplus = episode + 1\n",
    "        \n",
    "    while not done:\n",
    "        prev_state = dc(state)\n",
    "        action = agent.select_action(state, env, epsilon)\n",
    "        next_state, reward, done = env.step(action)\n",
    "        current_state = dc(next_state)\n",
    "        agent.store_transition(Transition(prev_state, action, current_state, reward))\n",
    "        state = next_state\n",
    "        # env.display_board()\n",
    "    \n",
    "    agent.train()\n",
    "\n",
    "    if episodeplus % target_update_frequency == 0:\n",
    "        agent.update_target_network()\n",
    "        \n",
    "    if episodeplus % clear_memory_frequency == 0:\n",
    "        main_memory += dc(agent.memory)\n",
    "        agent.memory.clear()\n",
    "        \n",
    "    if episodeplus % save_model_frequency == 0:\n",
    "        if episodeplus >= threshold_episodes_save: torch.save(agent.policy_net.state_dict(), os.path.join(model_path, f\"{episodeplus}.pth\"))\n",
    "        # f, s = TestCase(agent, 2000)\n",
    "        # results.append((episode + 1, f, s))\n",
    "        # clear_output(wait=True)\n",
    "        # update_plot(results)\n",
    "        \n",
    "    env.reset()\n",
    "\n",
    "torch.save(agent.policy_net.state_dict(), \"main.pth\")"
   ]
  },
  {
   "cell_type": "code",
   "execution_count": null,
   "metadata": {},
   "outputs": [],
   "source": [
    "agent.memory"
   ]
  }
 ],
 "metadata": {
  "kernelspec": {
   "display_name": "Python 3",
   "language": "python",
   "name": "python3"
  },
  "language_info": {
   "codemirror_mode": {
    "name": "ipython",
    "version": 3
   },
   "file_extension": ".py",
   "mimetype": "text/x-python",
   "name": "python",
   "nbconvert_exporter": "python",
   "pygments_lexer": "ipython3",
   "version": "3.9.18"
  }
 },
 "nbformat": 4,
 "nbformat_minor": 2
}
