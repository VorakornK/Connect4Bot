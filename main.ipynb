{
 "cells": [
  {
   "cell_type": "code",
   "execution_count": 1,
   "metadata": {},
   "outputs": [],
   "source": [
    "from module import *\n",
    "from tool import *\n",
    "from test import *\n",
    "from tqdm import tqdm\n",
    "import os\n",
    "from IPython.display import clear_output"
   ]
  },
  {
   "cell_type": "code",
   "execution_count": 2,
   "metadata": {},
   "outputs": [
    {
     "name": "stderr",
     "output_type": "stream",
     "text": [
      " 11%|█▏        | 5704/50000 [12:23<1:37:29,  7.57it/s]"
     ]
    }
   ],
   "source": [
    "env = ConnectFourEnvironment()\n",
    "input_size = 6 * 7  \n",
    "output_size = 7 \n",
    "device = torch.device(\"cuda\" if torch.cuda.is_available() else \"cpu\")\n",
    "agent = DQNAgent(input_size, output_size, device)\n",
    "\n",
    "\n",
    "model_path = f\"minimax/\"\n",
    "os.makedirs(model_path)\n",
    "\n",
    "num_episodes = 50000\n",
    "epsilon = 0.1\n",
    "target_update_frequency = 100\n",
    "update_plot_frequency = 2000\n",
    "threshold_episodes_save = 5000\n",
    "\n",
    "results = []\n",
    "\n",
    "# Training loop\n",
    "for episode in tqdm(range(num_episodes)):\n",
    "    state = env.get_state()\n",
    "    done = False\n",
    "\n",
    "    # new_epsilon = max(0, epsilon)\n",
    "    while not done:\n",
    "        action = agent.select_action(state, env, epsilon)\n",
    "        next_state, reward, done = env.step(action)\n",
    "        agent.store_transition(Transition(state, action, next_state, reward))\n",
    "        # env.display_board()\n",
    "        \n",
    "        state = next_state\n",
    "    \n",
    "    agent.train()\n",
    "\n",
    "    if episode % target_update_frequency == 0:\n",
    "        agent.update_target_network()\n",
    "        \n",
    "    if (episode + 1) % update_plot_frequency == 0:\n",
    "        agent.memory.clear()\n",
    "        if (episode + 1) >= threshold_episodes_save: torch.save(agent.policy_net.state_dict(), os.path.join(model_path, f\"{episode + 1}.pth\"))\n",
    "        # f, s = TestCase(agent, 2000)\n",
    "        # results.append((episode + 1, f, s))\n",
    "        # clear_output(wait=True)\n",
    "        # update_plot(results)\n",
    "        \n",
    "    env.reset()\n",
    "\n",
    "# clear_output(wait=True)\n",
    "dqn_net = DQN()\n",
    "with open(os.path.join(model_path, \"model.txt\"), \"w\") as f:\n",
    "    f.write(str(dqn_net) + f\"\\nEpsilon: {epsilon}\\nResults: {results}\" )\n",
    "# update_plot(results, os.path.join(model_path, \"final.png\"))"
   ]
  }
 ],
 "metadata": {
  "kernelspec": {
   "display_name": "Python 3",
   "language": "python",
   "name": "python3"
  },
  "language_info": {
   "codemirror_mode": {
    "name": "ipython",
    "version": 3
   },
   "file_extension": ".py",
   "mimetype": "text/x-python",
   "name": "python",
   "nbconvert_exporter": "python",
   "pygments_lexer": "ipython3",
   "version": "3.9.18"
  }
 },
 "nbformat": 4,
 "nbformat_minor": 2
}
