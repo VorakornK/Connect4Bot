{
 "cells": [
  {
   "cell_type": "code",
   "execution_count": 5,
   "metadata": {},
   "outputs": [],
   "source": [
    "from module import *"
   ]
  },
  {
   "cell_type": "code",
   "execution_count": 6,
   "metadata": {},
   "outputs": [
    {
     "name": "stderr",
     "output_type": "stream",
     "text": [
      " 70%|███████   | 35198/50000 [52:29<27:04,  9.11it/s]  "
     ]
    }
   ],
   "source": [
    "env = ConnectFourEnvironment()\n",
    "input_size = 6 * 7  # Adjust according to your state size\n",
    "output_size = 7  # Assuming your output is the number of valid actions\n",
    "device = torch.device(\"cuda\" if torch.cuda.is_available() else \"cpu\")\n",
    "agent = DQNAgent(input_size, output_size, device)\n",
    "\n",
    "num_episodes = 50000\n",
    "epsilon = 0.9\n",
    "target_update_frequency = 100\n",
    "\n",
    "# Training loop\n",
    "for episode in tqdm(range(num_episodes)):\n",
    "    state = env.get_state()\n",
    "    done = False\n",
    "\n",
    "    while not done:\n",
    "        action = agent.select_action(state, env, epsilon - episode * epsilon / num_episodes)\n",
    "        # print(\"Action:\", action)\n",
    "        # env.display_board()\n",
    "        next_state, reward, done = env.step(action)\n",
    "        # print(\"Done:\", done)\n",
    "        agent.store_transition(Transition(state, action, next_state, reward))\n",
    "        agent.train()\n",
    "\n",
    "        state = next_state\n",
    "\n",
    "    if episode % target_update_frequency == 0:\n",
    "        agent.update_target_network()\n",
    "        \n",
    "    env.reset()\n",
    "\n",
    "torch.save(agent.policy_net.state_dict(), f\"{num_episodes}.pth\")"
   ]
  }
 ],
 "metadata": {
  "kernelspec": {
   "display_name": "Python 3",
   "language": "python",
   "name": "python3"
  },
  "language_info": {
   "codemirror_mode": {
    "name": "ipython",
    "version": 3
   },
   "file_extension": ".py",
   "mimetype": "text/x-python",
   "name": "python",
   "nbconvert_exporter": "python",
   "pygments_lexer": "ipython3",
   "version": "3.9.18"
  }
 },
 "nbformat": 4,
 "nbformat_minor": 2
}
